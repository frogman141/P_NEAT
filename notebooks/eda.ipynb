{
 "cells": [
  {
   "cell_type": "code",
   "execution_count": 2,
   "metadata": {
    "tags": []
   },
   "outputs": [
    {
     "name": "stderr",
     "output_type": "stream",
     "text": [
      "UserWarning: Using SDL2 binaries from pysdl2-dll 2.30.0\n"
     ]
    }
   ],
   "source": [
    "from pyboy import PyBoy\n",
    "from pyboy.plugins import GameWrapperPokemonGen1"
   ]
  },
  {
   "cell_type": "markdown",
   "metadata": {},
   "source": [
    "# Memory Addresses of Pokemon Red"
   ]
  },
  {
   "cell_type": "code",
   "execution_count": 4,
   "metadata": {},
   "outputs": [],
   "source": [
    "PARTY_SIZE_ADDRESS = 0xD163\n",
    "X_POS_ADDRESS, Y_POS_ADDRESS = 0xD362, 0xD361\n",
    "MAP_N_ADDRESS = 0xD35E\n",
    "BADGE_COUNT_ADDRESS = 0xD356\n",
    "\n",
    "LEVELS_ADDRESSES = [0xD18C, 0xD1B8, 0xD1E4, 0xD210, 0xD23C, 0xD268]\n",
    "PARTY_ADDRESSES = [0xD164, 0xD165, 0xD166, 0xD167, 0xD168, 0xD169]\n",
    "OPPONENT_LEVELS_ADDRESSES = [0xD8C5, 0xD8F1, 0xD91D, 0xD949, 0xD975, 0xD9A1]\n",
    "\n",
    "EVENT_FLAGS_START_ADDRESS = 0xD747\n",
    "EVENT_FLAGS_END_ADDRESS = 0xD886\n",
    "MUSEUM_TICKET_ADDRESS = 0xD754\n",
    "\n",
    "HP_ADDRESSES = [0xD16C, 0xD198, 0xD1C4, 0xD1F0, 0xD21C, 0xD248]\n",
    "MAX_HP_ADDRESSES = [0xD18D, 0xD1B9, 0xD1E5, 0xD211, 0xD23D, 0xD269]\n",
    "\n",
    "MONEY_ADDRESS_1 = 0xD347\n",
    "MONEY_ADDRESS_2 = 0xD348\n",
    "MONEY_ADDRESS_3 = 0xD349"
   ]
  },
  {
   "cell_type": "markdown",
   "metadata": {},
   "source": [
    "# Implementing Game Wrapper Class for Pokemon\n",
    "\n",
    "The following code contains a wrapper class that implments a fitness function to allow the NEAT algorithm to learn how to play Pokemon.\n"
   ]
  },
  {
   "cell_type": "code",
   "execution_count": 11,
   "metadata": {
    "tags": []
   },
   "outputs": [],
   "source": [
    "pyboy = PyBoy('../Pokemon/Red.gb', window_scale=3, game_wrapper=True)"
   ]
  },
  {
   "cell_type": "code",
   "execution_count": 12,
   "metadata": {},
   "outputs": [],
   "source": [
    "test = pyboy.game_wrapper()"
   ]
  },
  {
   "cell_type": "code",
   "execution_count": 16,
   "metadata": {},
   "outputs": [
    {
     "ename": "AttributeError",
     "evalue": "'pyboy.plugins.game_wrapper_pokemon_gen1.GameWrapperPokemonGen1' object has no attribute 'fitness'",
     "output_type": "error",
     "traceback": [
      "\u001b[0;31m---------------------------------------------------------------------------\u001b[0m",
      "\u001b[0;31mAttributeError\u001b[0m                            Traceback (most recent call last)",
      "Cell \u001b[0;32mIn[16], line 1\u001b[0m\n\u001b[0;32m----> 1\u001b[0m test\u001b[38;5;241m.\u001b[39mfitness \u001b[38;5;241m=\u001b[39m \u001b[38;5;124m\"\u001b[39m\u001b[38;5;124mhello world\u001b[39m\u001b[38;5;124m\"\u001b[39m\n",
      "\u001b[0;31mAttributeError\u001b[0m: 'pyboy.plugins.game_wrapper_pokemon_gen1.GameWrapperPokemonGen1' object has no attribute 'fitness'"
     ]
    }
   ],
   "source": [
    "test.fitness = \"hello world\""
   ]
  },
  {
   "cell_type": "code",
   "execution_count": 14,
   "metadata": {},
   "outputs": [],
   "source": [
    "while not pyboy.tick():\n",
    "    pass\n",
    "\n",
    "pyboy.stop()"
   ]
  },
  {
   "cell_type": "code",
   "execution_count": null,
   "metadata": {},
   "outputs": [],
   "source": []
  }
 ],
 "metadata": {
  "kernelspec": {
   "display_name": "base",
   "language": "python",
   "name": "python3"
  },
  "language_info": {
   "codemirror_mode": {
    "name": "ipython",
    "version": 3
   },
   "file_extension": ".py",
   "mimetype": "text/x-python",
   "name": "python",
   "nbconvert_exporter": "python",
   "pygments_lexer": "ipython3",
   "version": "3.11.5"
  }
 },
 "nbformat": 4,
 "nbformat_minor": 4
}
